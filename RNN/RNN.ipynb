{
 "cells": [
  {
   "cell_type": "markdown",
   "metadata": {},
   "source": [
    "### Sebastián Rodríguez\n",
    "### 20003076\n",
    "\n",
    "# Proyecto 1 - Recurrent Neural Network"
   ]
  },
  {
   "cell_type": "markdown",
   "metadata": {},
   "source": [
    "### Elección de dataset\n",
    "\n",
    "Utilizamos un dataset de consumos energéticos por dos razones principales: \n",
    "\n",
    "- En donde laboro estamos involucrados con la eficiencia energética en nuestras líneas de producción y estamos buscando relacionar variables en equipo que nos pueden ayudar a identificar puntos de mejora y valores críticos en los consumos, dìa, mes, año.\n",
    "- Un desarrollo para un modelo que nos indique la relación entre consumo de potencia global vs el voltaje consumido, intensidades y periodos de tiempo de consumo elevados son de gran utilidad para saber en donde estàn las mejoras. \n",
    "\n",
    "El dataset fue elegido en los links brindados del curso https://www.kaggle.com/search?q=data+power+consumption "
   ]
  },
  {
   "cell_type": "code",
   "execution_count": 1,
   "metadata": {},
   "outputs": [],
   "source": [
    "import sys \n",
    "import numpy as np\n",
    "from scipy.stats import randint\n",
    "import pandas as pd \n",
    "import matplotlib.pyplot as plt \n",
    "import seaborn as sns \n",
    "from sklearn.model_selection import train_test_split \n",
    "from keras.layers import Dense\n",
    "from keras.models import Sequential\n",
    "from keras.utils import to_categorical\n",
    "from keras.optimizers import SGD \n",
    "from keras.callbacks import EarlyStopping\n",
    "from keras.utils import np_utils\n",
    "import itertools\n",
    "from keras.layers import LSTM\n",
    "from keras.layers.convolutional import Conv1D\n",
    "from keras.layers.convolutional import MaxPooling1D\n",
    "from keras.layers import Dropout\n"
   ]
  },
  {
   "cell_type": "code",
   "execution_count": 4,
   "metadata": {},
   "outputs": [],
   "source": [
    "df = pd.read_csv('data_consumption.txt', sep=';', parse_dates={'dt' : ['Date', 'Time']}, \n",
    "                 infer_datetime_format=True, low_memory=False, na_values=['nan','?'], \n",
    "                 index_col='dt')"
   ]
  },
  {
   "cell_type": "code",
   "execution_count": 5,
   "metadata": {},
   "outputs": [
    {
     "data": {
      "text/html": [
       "<div>\n",
       "<style scoped>\n",
       "    .dataframe tbody tr th:only-of-type {\n",
       "        vertical-align: middle;\n",
       "    }\n",
       "\n",
       "    .dataframe tbody tr th {\n",
       "        vertical-align: top;\n",
       "    }\n",
       "\n",
       "    .dataframe thead th {\n",
       "        text-align: right;\n",
       "    }\n",
       "</style>\n",
       "<table border=\"1\" class=\"dataframe\">\n",
       "  <thead>\n",
       "    <tr style=\"text-align: right;\">\n",
       "      <th></th>\n",
       "      <th>Global_active_power</th>\n",
       "      <th>Global_reactive_power</th>\n",
       "      <th>Voltage</th>\n",
       "      <th>Global_intensity</th>\n",
       "      <th>Sub_metering_1</th>\n",
       "      <th>Sub_metering_2</th>\n",
       "      <th>Sub_metering_3</th>\n",
       "    </tr>\n",
       "    <tr>\n",
       "      <th>dt</th>\n",
       "      <th></th>\n",
       "      <th></th>\n",
       "      <th></th>\n",
       "      <th></th>\n",
       "      <th></th>\n",
       "      <th></th>\n",
       "      <th></th>\n",
       "    </tr>\n",
       "  </thead>\n",
       "  <tbody>\n",
       "    <tr>\n",
       "      <th>2006-12-16 17:24:00</th>\n",
       "      <td>4.216</td>\n",
       "      <td>0.418</td>\n",
       "      <td>234.84</td>\n",
       "      <td>18.4</td>\n",
       "      <td>0.0</td>\n",
       "      <td>1.0</td>\n",
       "      <td>17.0</td>\n",
       "    </tr>\n",
       "    <tr>\n",
       "      <th>2006-12-16 17:25:00</th>\n",
       "      <td>5.360</td>\n",
       "      <td>0.436</td>\n",
       "      <td>233.63</td>\n",
       "      <td>23.0</td>\n",
       "      <td>0.0</td>\n",
       "      <td>1.0</td>\n",
       "      <td>16.0</td>\n",
       "    </tr>\n",
       "    <tr>\n",
       "      <th>2006-12-16 17:26:00</th>\n",
       "      <td>5.374</td>\n",
       "      <td>0.498</td>\n",
       "      <td>233.29</td>\n",
       "      <td>23.0</td>\n",
       "      <td>0.0</td>\n",
       "      <td>2.0</td>\n",
       "      <td>17.0</td>\n",
       "    </tr>\n",
       "    <tr>\n",
       "      <th>2006-12-16 17:27:00</th>\n",
       "      <td>5.388</td>\n",
       "      <td>0.502</td>\n",
       "      <td>233.74</td>\n",
       "      <td>23.0</td>\n",
       "      <td>0.0</td>\n",
       "      <td>1.0</td>\n",
       "      <td>17.0</td>\n",
       "    </tr>\n",
       "    <tr>\n",
       "      <th>2006-12-16 17:28:00</th>\n",
       "      <td>3.666</td>\n",
       "      <td>0.528</td>\n",
       "      <td>235.68</td>\n",
       "      <td>15.8</td>\n",
       "      <td>0.0</td>\n",
       "      <td>1.0</td>\n",
       "      <td>17.0</td>\n",
       "    </tr>\n",
       "  </tbody>\n",
       "</table>\n",
       "</div>"
      ],
      "text/plain": [
       "                     Global_active_power  Global_reactive_power  Voltage  \\\n",
       "dt                                                                         \n",
       "2006-12-16 17:24:00                4.216                  0.418   234.84   \n",
       "2006-12-16 17:25:00                5.360                  0.436   233.63   \n",
       "2006-12-16 17:26:00                5.374                  0.498   233.29   \n",
       "2006-12-16 17:27:00                5.388                  0.502   233.74   \n",
       "2006-12-16 17:28:00                3.666                  0.528   235.68   \n",
       "\n",
       "                     Global_intensity  Sub_metering_1  Sub_metering_2  \\\n",
       "dt                                                                      \n",
       "2006-12-16 17:24:00              18.4             0.0             1.0   \n",
       "2006-12-16 17:25:00              23.0             0.0             1.0   \n",
       "2006-12-16 17:26:00              23.0             0.0             2.0   \n",
       "2006-12-16 17:27:00              23.0             0.0             1.0   \n",
       "2006-12-16 17:28:00              15.8             0.0             1.0   \n",
       "\n",
       "                     Sub_metering_3  \n",
       "dt                                   \n",
       "2006-12-16 17:24:00            17.0  \n",
       "2006-12-16 17:25:00            16.0  \n",
       "2006-12-16 17:26:00            17.0  \n",
       "2006-12-16 17:27:00            17.0  \n",
       "2006-12-16 17:28:00            17.0  "
      ]
     },
     "execution_count": 5,
     "metadata": {},
     "output_type": "execute_result"
    }
   ],
   "source": [
    "df.head()"
   ]
  },
  {
   "cell_type": "code",
   "execution_count": 6,
   "metadata": {},
   "outputs": [
    {
     "name": "stdout",
     "output_type": "stream",
     "text": [
      "<class 'pandas.core.frame.DataFrame'>\n",
      "DatetimeIndex: 2075259 entries, 2006-12-16 17:24:00 to 2010-11-26 21:02:00\n",
      "Data columns (total 7 columns):\n",
      " #   Column                 Dtype  \n",
      "---  ------                 -----  \n",
      " 0   Global_active_power    float64\n",
      " 1   Global_reactive_power  float64\n",
      " 2   Voltage                float64\n",
      " 3   Global_intensity       float64\n",
      " 4   Sub_metering_1         float64\n",
      " 5   Sub_metering_2         float64\n",
      " 6   Sub_metering_3         float64\n",
      "dtypes: float64(7)\n",
      "memory usage: 126.7 MB\n"
     ]
    }
   ],
   "source": [
    "df.info()"
   ]
  },
  {
   "cell_type": "code",
   "execution_count": 7,
   "metadata": {},
   "outputs": [
    {
     "data": {
      "text/html": [
       "<div>\n",
       "<style scoped>\n",
       "    .dataframe tbody tr th:only-of-type {\n",
       "        vertical-align: middle;\n",
       "    }\n",
       "\n",
       "    .dataframe tbody tr th {\n",
       "        vertical-align: top;\n",
       "    }\n",
       "\n",
       "    .dataframe thead th {\n",
       "        text-align: right;\n",
       "    }\n",
       "</style>\n",
       "<table border=\"1\" class=\"dataframe\">\n",
       "  <thead>\n",
       "    <tr style=\"text-align: right;\">\n",
       "      <th></th>\n",
       "      <th>Global_active_power</th>\n",
       "      <th>Global_reactive_power</th>\n",
       "      <th>Voltage</th>\n",
       "      <th>Global_intensity</th>\n",
       "      <th>Sub_metering_1</th>\n",
       "      <th>Sub_metering_2</th>\n",
       "      <th>Sub_metering_3</th>\n",
       "    </tr>\n",
       "  </thead>\n",
       "  <tbody>\n",
       "    <tr>\n",
       "      <th>count</th>\n",
       "      <td>2.049280e+06</td>\n",
       "      <td>2.049280e+06</td>\n",
       "      <td>2.049280e+06</td>\n",
       "      <td>2.049280e+06</td>\n",
       "      <td>2.049280e+06</td>\n",
       "      <td>2.049280e+06</td>\n",
       "      <td>2.049280e+06</td>\n",
       "    </tr>\n",
       "    <tr>\n",
       "      <th>mean</th>\n",
       "      <td>1.091615e+00</td>\n",
       "      <td>1.237145e-01</td>\n",
       "      <td>2.408399e+02</td>\n",
       "      <td>4.627759e+00</td>\n",
       "      <td>1.121923e+00</td>\n",
       "      <td>1.298520e+00</td>\n",
       "      <td>6.458447e+00</td>\n",
       "    </tr>\n",
       "    <tr>\n",
       "      <th>std</th>\n",
       "      <td>1.057294e+00</td>\n",
       "      <td>1.127220e-01</td>\n",
       "      <td>3.239987e+00</td>\n",
       "      <td>4.444396e+00</td>\n",
       "      <td>6.153031e+00</td>\n",
       "      <td>5.822026e+00</td>\n",
       "      <td>8.437154e+00</td>\n",
       "    </tr>\n",
       "    <tr>\n",
       "      <th>min</th>\n",
       "      <td>7.600000e-02</td>\n",
       "      <td>0.000000e+00</td>\n",
       "      <td>2.232000e+02</td>\n",
       "      <td>2.000000e-01</td>\n",
       "      <td>0.000000e+00</td>\n",
       "      <td>0.000000e+00</td>\n",
       "      <td>0.000000e+00</td>\n",
       "    </tr>\n",
       "    <tr>\n",
       "      <th>25%</th>\n",
       "      <td>3.080000e-01</td>\n",
       "      <td>4.800000e-02</td>\n",
       "      <td>2.389900e+02</td>\n",
       "      <td>1.400000e+00</td>\n",
       "      <td>0.000000e+00</td>\n",
       "      <td>0.000000e+00</td>\n",
       "      <td>0.000000e+00</td>\n",
       "    </tr>\n",
       "    <tr>\n",
       "      <th>50%</th>\n",
       "      <td>6.020000e-01</td>\n",
       "      <td>1.000000e-01</td>\n",
       "      <td>2.410100e+02</td>\n",
       "      <td>2.600000e+00</td>\n",
       "      <td>0.000000e+00</td>\n",
       "      <td>0.000000e+00</td>\n",
       "      <td>1.000000e+00</td>\n",
       "    </tr>\n",
       "    <tr>\n",
       "      <th>75%</th>\n",
       "      <td>1.528000e+00</td>\n",
       "      <td>1.940000e-01</td>\n",
       "      <td>2.428900e+02</td>\n",
       "      <td>6.400000e+00</td>\n",
       "      <td>0.000000e+00</td>\n",
       "      <td>1.000000e+00</td>\n",
       "      <td>1.700000e+01</td>\n",
       "    </tr>\n",
       "    <tr>\n",
       "      <th>max</th>\n",
       "      <td>1.112200e+01</td>\n",
       "      <td>1.390000e+00</td>\n",
       "      <td>2.541500e+02</td>\n",
       "      <td>4.840000e+01</td>\n",
       "      <td>8.800000e+01</td>\n",
       "      <td>8.000000e+01</td>\n",
       "      <td>3.100000e+01</td>\n",
       "    </tr>\n",
       "  </tbody>\n",
       "</table>\n",
       "</div>"
      ],
      "text/plain": [
       "       Global_active_power  Global_reactive_power       Voltage  \\\n",
       "count         2.049280e+06           2.049280e+06  2.049280e+06   \n",
       "mean          1.091615e+00           1.237145e-01  2.408399e+02   \n",
       "std           1.057294e+00           1.127220e-01  3.239987e+00   \n",
       "min           7.600000e-02           0.000000e+00  2.232000e+02   \n",
       "25%           3.080000e-01           4.800000e-02  2.389900e+02   \n",
       "50%           6.020000e-01           1.000000e-01  2.410100e+02   \n",
       "75%           1.528000e+00           1.940000e-01  2.428900e+02   \n",
       "max           1.112200e+01           1.390000e+00  2.541500e+02   \n",
       "\n",
       "       Global_intensity  Sub_metering_1  Sub_metering_2  Sub_metering_3  \n",
       "count      2.049280e+06    2.049280e+06    2.049280e+06    2.049280e+06  \n",
       "mean       4.627759e+00    1.121923e+00    1.298520e+00    6.458447e+00  \n",
       "std        4.444396e+00    6.153031e+00    5.822026e+00    8.437154e+00  \n",
       "min        2.000000e-01    0.000000e+00    0.000000e+00    0.000000e+00  \n",
       "25%        1.400000e+00    0.000000e+00    0.000000e+00    0.000000e+00  \n",
       "50%        2.600000e+00    0.000000e+00    0.000000e+00    1.000000e+00  \n",
       "75%        6.400000e+00    0.000000e+00    1.000000e+00    1.700000e+01  \n",
       "max        4.840000e+01    8.800000e+01    8.000000e+01    3.100000e+01  "
      ]
     },
     "execution_count": 7,
     "metadata": {},
     "output_type": "execute_result"
    }
   ],
   "source": [
    "df.describe()"
   ]
  },
  {
   "cell_type": "code",
   "execution_count": 8,
   "metadata": {
    "scrolled": true
   },
   "outputs": [
    {
     "name": "stdout",
     "output_type": "stream",
     "text": [
      "[0.418 0.436 0.498 0.502 0.528 0.522 0.52  0.51  0.47  0.478 0.398 0.422\n",
      " 0.282 0.152 0.156 0.    0.076 0.09  0.2   0.058 0.18  0.144 0.118 0.108\n",
      " 0.202 0.192 0.186 0.116 0.136 0.148 0.16  0.158 0.1   0.082 0.05  0.052\n",
      " 0.162 0.086 0.048 0.054 0.068 0.166 0.174 0.178 0.188 0.088 0.08  0.07\n",
      " 0.084 0.074 0.106 0.092 0.064 0.046 0.138 0.134 0.132 0.12  0.13  0.154\n",
      " 0.078 0.142 0.14  0.146 0.15  0.17  0.102 0.072 0.06  0.056 0.062 0.112\n",
      " 0.066 0.172 0.168 0.194 0.184 0.096 0.164 0.182 0.094 0.098 0.176 0.19\n",
      " 0.204 0.22  0.198 0.208 0.244 0.334 0.298 0.296 0.286 0.278 0.104 0.258\n",
      " 0.238 0.256 0.214 0.23  0.21  0.24  0.124 0.122 0.27  0.302 0.272 0.25\n",
      " 0.294 0.3   0.128 0.126 0.234 0.242 0.316 0.28  0.288 0.224 0.11  0.248\n",
      " 0.254 0.222 0.246 0.216 0.212 0.114 0.206 0.228 0.226 0.196 0.218 0.368\n",
      " 0.338 0.31  0.304 0.292 0.268 0.266 0.26  0.396 0.38  0.4   0.384 0.416\n",
      " 0.404 0.382 0.232 0.314 0.312 0.262 0.252 0.236 0.348 0.342 0.34  0.35\n",
      " 0.504 0.344 0.346 0.366 0.574 0.582 0.37  0.364 0.36  0.362 0.372 0.392\n",
      " 0.354 0.356 0.358 0.402 0.394 0.39  0.386 0.274 0.264 0.324 0.352 0.276\n",
      " 0.306 0.376 0.562 0.44  0.378 0.426 0.45  0.374 0.388 0.284 0.29  0.308\n",
      " 0.318 0.32  0.322 0.326 0.336 0.414 0.408 0.472 0.464 0.462 0.578 0.576\n",
      " 0.58  0.474 0.514 0.646 0.636 0.598 0.586 0.566 0.406 0.43  0.412 0.442\n",
      " 0.452 0.432 0.33  0.328 0.538 0.564 0.552 0.556 0.606 0.424 0.492 0.526\n",
      " 0.512 0.482 0.446 0.332   nan 0.548 0.534 0.532 0.688 0.664 0.66  0.53\n",
      " 0.516 0.572 0.54  0.614 0.568 0.444 0.456 0.448 0.48  0.434 0.438 0.494\n",
      " 0.496 0.468 0.56  0.622 0.57  0.618 0.624 0.466 0.42  0.5   0.602 0.632\n",
      " 0.724 0.706 0.484 0.458 0.428 0.486 0.698 0.708 0.686 0.666 0.658 0.49\n",
      " 0.454 0.64  0.59  0.524 0.634 0.476 0.694 0.7   0.794 0.592 0.46  0.656\n",
      " 0.644 0.488 0.41  0.55  0.616 0.8   0.79  0.788 0.67  0.506 0.6   0.68\n",
      " 0.678 0.682 0.69  0.508 0.604 0.608 0.554 0.518 0.65  0.648 0.642 0.654\n",
      " 0.754 0.75  0.742 0.594 0.536 0.544 0.63  0.542 0.672 0.588 0.596 0.584\n",
      " 0.674 0.726 0.768 0.774 0.712 0.856 0.862 0.848 0.73  0.71  0.662 0.722\n",
      " 0.704 0.546 0.638 0.628 0.62  0.716 0.778 0.702 0.676 0.834 0.802 0.772\n",
      " 0.558 0.626 0.652 0.76  0.78  0.784 0.786 0.792 0.782 0.832 0.842 0.744\n",
      " 0.822 0.612 0.692 0.684 0.874 0.804 0.696 0.61  0.718 0.732 0.72  0.748\n",
      " 0.796 0.736 0.82  0.808 0.756 0.776 0.806 0.764 0.818 0.77  0.758 0.858\n",
      " 0.86  0.85  0.752 0.714 0.84  0.83  0.838 0.738 0.828 0.74  0.746 0.988\n",
      " 0.966 0.96  0.956 0.854 0.912 0.734 0.728 0.826 0.88  0.878 0.876 0.93\n",
      " 0.986 0.972 0.946 0.902 1.046 1.148 1.054 0.89  0.668 1.092 0.996 0.974\n",
      " 1.04  1.06  1.028 0.908 0.898 0.95  0.964 0.94  0.928 0.896 0.868 0.87\n",
      " 0.866 0.864 0.872 0.812 0.836 0.824 0.814 0.762 0.994 1.032 0.816 0.944\n",
      " 0.968 0.916 1.014 1.008 1.002 0.81  1.    1.006 1.012 1.034 0.852 0.924\n",
      " 0.942 0.982 0.906 0.932 0.914 0.846 0.844 1.222 1.19  1.18  1.118 1.082\n",
      " 1.08  0.91  1.102 1.274 1.364 1.39  0.918 1.198 1.192 0.936 0.954 0.98\n",
      " 0.99  0.904 0.798 0.766 1.09  1.016 0.922 1.036 0.892 0.894 0.9   0.886\n",
      " 1.096 0.92  0.962 0.958 0.998 1.044 1.048 0.938 0.934 1.13  1.218 0.888\n",
      " 0.882 1.156 1.024 1.088 1.084 1.076 1.066 1.07  1.24  0.926 0.952 0.884\n",
      " 1.186 1.108 1.03  1.02  0.978 0.97  0.948 1.064 1.078 1.074 1.124 1.018\n",
      " 0.976 1.038 1.094 1.1   1.026]\n",
      "[234.84 233.63 233.29 ... 251.63 253.08 253.16]\n",
      "[18.4 23.  15.8 15.  19.6 23.2 22.4 22.6 17.6 14.2 13.8 14.4 16.4 25.4\n",
      " 33.2 30.6 22.  19.4 13.6 13.4 11.6 19.2 10.4 11.8 11.  21.  26.2 29.\n",
      " 27.8 27.  19.   9.6 10.  21.4 17.8 12.  12.4 15.2 20.8 15.6 26.4 18.8\n",
      " 13.   9.8  9.2 13.2 18.  10.8 10.6 18.2 17.  17.4 14.8 14.6 15.4 14.\n",
      "  8.4  9.4  7.8  8.2  8.6 11.4 12.6  9.   7.6 12.8  7.4  5.6  4.6  7.2\n",
      "  1.6  2.4  2.8  1.2  4.4  4.  10.2  6.8  5.2  6.   6.6  8.   2.   4.8\n",
      "  5.4 16.6  3.   1.8  8.8  1.4 21.8 20.2 16.  18.6 16.8 11.2  2.6 16.2\n",
      "  4.2  7.   3.8  3.2  5.   3.6  0.8  5.8  1.   6.4  6.2  3.4  2.2 12.2\n",
      " 30.  29.4 28.2 25.8 20.  24.8 24.6 25.2 25.  23.4 23.8 20.6 21.6 19.8\n",
      " 20.4 26.6 17.2 21.2 23.6 29.2 33.6 28.  30.2 33.4 24.2 24.  22.2 24.4\n",
      " 22.8  nan 30.4 34.2 32.8 33.  32.6 31.6 28.6 25.6 31.  28.4 27.2 29.8\n",
      " 29.6 37.  36.8 32.4 27.4 35.  34.8 32.2 26.  35.2 36.2 27.6 26.8 34.4\n",
      " 31.4 30.8 31.2 39.  39.2 39.4 28.8 38.8 35.6 32.  33.8 36.  37.2 34.\n",
      " 31.8 36.6 40.4 37.4 38.2 36.4 35.4 34.6 35.8 38.  40.2 41.  41.4 41.2\n",
      " 41.8 38.6 44.4 46.4 43.2 39.8 40.8  0.6  0.4 37.8 40.6 38.4 42.  42.2\n",
      " 39.6 42.6 44.2 37.6 40.   0.2 44.6 43.4 43.  45.8 48.4 42.8]\n",
      "[ 0.  1.  2.  6. 37. 36. 38. 25. 12. 11.  9.  4. 33.  5. 34.  8. 26. 27.\n",
      " 15. 20. 21. 23. 16. 10. 39. 32. nan 19. 35. 30. 40.  7. 31. 17.  3. 29.\n",
      " 24. 14. 41. 53. 76. 75. 77. 74. 28. 68. 58. 62. 13. 18. 22. 64. 71. 56.\n",
      " 72. 45. 42. 59. 66. 43. 44. 48. 46. 73. 55. 60. 70. 63. 67. 47. 65. 51.\n",
      " 50. 69. 78. 57. 49. 61. 52. 54. 79. 80. 81. 82. 83. 84. 88. 86. 87.]\n",
      "[ 1.  2.  0. 16. 37. 36. 22. 12. 27. 20.  9.  4.  3.  5. 13. 35. 28. 26.\n",
      " 24. 21. 17. 33. 25. 23. 18. 30. 31.  7. 38. 29. 50. 71. 59. 62. 70. 40.\n",
      " 34.  8. 15.  6. 32. 19. 14. 49. 72. 73. 61. 39. 42. 10. 56. 11. nan 43.\n",
      " 67. 63. 53. 65. 52. 69. 48. 74. 41. 47. 58. 68. 64. 75. 46. 57. 60. 66.\n",
      " 44. 78. 77. 76. 51. 55. 45. 54. 79. 80.]\n",
      "[17. 16. 18.  9.  0.  5. 19. 10. 20.  8.  4.  2.  3. 11. 13.  6. 15. nan\n",
      " 12.  1. 14.  7. 23. 25. 26. 28. 27. 21. 22. 29. 24. 30. 31.]\n"
     ]
    }
   ],
   "source": [
    "for j in range(1,7):\n",
    "       print(df.iloc[:, j].unique())"
   ]
  },
  {
   "cell_type": "code",
   "execution_count": 9,
   "metadata": {},
   "outputs": [
    {
     "data": {
      "text/plain": [
       "[0, 1, 2, 3, 4, 5, 6]"
      ]
     },
     "execution_count": 9,
     "metadata": {},
     "output_type": "execute_result"
    }
   ],
   "source": [
    "droping_list_all=[]\n",
    "for j in range(0,7):\n",
    "    if not df.iloc[:, j].notnull().all():\n",
    "        droping_list_all.append(j)        \n",
    "        #print(df.iloc[:,j].unique())\n",
    "droping_list_all"
   ]
  },
  {
   "cell_type": "code",
   "execution_count": 10,
   "metadata": {},
   "outputs": [],
   "source": [
    "for j in range(0,7):        \n",
    "        df.iloc[:,j]=df.iloc[:,j].fillna(df.iloc[:,j].mean())"
   ]
  },
  {
   "cell_type": "code",
   "execution_count": 11,
   "metadata": {},
   "outputs": [
    {
     "data": {
      "text/html": [
       "<div>\n",
       "<style scoped>\n",
       "    .dataframe tbody tr th:only-of-type {\n",
       "        vertical-align: middle;\n",
       "    }\n",
       "\n",
       "    .dataframe tbody tr th {\n",
       "        vertical-align: top;\n",
       "    }\n",
       "\n",
       "    .dataframe thead th {\n",
       "        text-align: right;\n",
       "    }\n",
       "</style>\n",
       "<table border=\"1\" class=\"dataframe\">\n",
       "  <thead>\n",
       "    <tr style=\"text-align: right;\">\n",
       "      <th></th>\n",
       "      <th>Global_active_power</th>\n",
       "      <th>Global_reactive_power</th>\n",
       "      <th>Voltage</th>\n",
       "      <th>Global_intensity</th>\n",
       "      <th>Sub_metering_1</th>\n",
       "      <th>Sub_metering_2</th>\n",
       "      <th>Sub_metering_3</th>\n",
       "    </tr>\n",
       "  </thead>\n",
       "  <tbody>\n",
       "    <tr>\n",
       "      <th>count</th>\n",
       "      <td>2.075259e+06</td>\n",
       "      <td>2.075259e+06</td>\n",
       "      <td>2.075259e+06</td>\n",
       "      <td>2.075259e+06</td>\n",
       "      <td>2.075259e+06</td>\n",
       "      <td>2.075259e+06</td>\n",
       "      <td>2.075259e+06</td>\n",
       "    </tr>\n",
       "    <tr>\n",
       "      <th>mean</th>\n",
       "      <td>1.091615e+00</td>\n",
       "      <td>1.237145e-01</td>\n",
       "      <td>2.408399e+02</td>\n",
       "      <td>4.627759e+00</td>\n",
       "      <td>1.121923e+00</td>\n",
       "      <td>1.298520e+00</td>\n",
       "      <td>6.458447e+00</td>\n",
       "    </tr>\n",
       "    <tr>\n",
       "      <th>std</th>\n",
       "      <td>1.050655e+00</td>\n",
       "      <td>1.120142e-01</td>\n",
       "      <td>3.219643e+00</td>\n",
       "      <td>4.416490e+00</td>\n",
       "      <td>6.114397e+00</td>\n",
       "      <td>5.785470e+00</td>\n",
       "      <td>8.384178e+00</td>\n",
       "    </tr>\n",
       "    <tr>\n",
       "      <th>min</th>\n",
       "      <td>7.600000e-02</td>\n",
       "      <td>0.000000e+00</td>\n",
       "      <td>2.232000e+02</td>\n",
       "      <td>2.000000e-01</td>\n",
       "      <td>0.000000e+00</td>\n",
       "      <td>0.000000e+00</td>\n",
       "      <td>0.000000e+00</td>\n",
       "    </tr>\n",
       "    <tr>\n",
       "      <th>25%</th>\n",
       "      <td>3.100000e-01</td>\n",
       "      <td>4.800000e-02</td>\n",
       "      <td>2.390200e+02</td>\n",
       "      <td>1.400000e+00</td>\n",
       "      <td>0.000000e+00</td>\n",
       "      <td>0.000000e+00</td>\n",
       "      <td>0.000000e+00</td>\n",
       "    </tr>\n",
       "    <tr>\n",
       "      <th>50%</th>\n",
       "      <td>6.300000e-01</td>\n",
       "      <td>1.020000e-01</td>\n",
       "      <td>2.409600e+02</td>\n",
       "      <td>2.800000e+00</td>\n",
       "      <td>0.000000e+00</td>\n",
       "      <td>0.000000e+00</td>\n",
       "      <td>1.000000e+00</td>\n",
       "    </tr>\n",
       "    <tr>\n",
       "      <th>75%</th>\n",
       "      <td>1.520000e+00</td>\n",
       "      <td>1.920000e-01</td>\n",
       "      <td>2.428600e+02</td>\n",
       "      <td>6.400000e+00</td>\n",
       "      <td>0.000000e+00</td>\n",
       "      <td>1.000000e+00</td>\n",
       "      <td>1.700000e+01</td>\n",
       "    </tr>\n",
       "    <tr>\n",
       "      <th>max</th>\n",
       "      <td>1.112200e+01</td>\n",
       "      <td>1.390000e+00</td>\n",
       "      <td>2.541500e+02</td>\n",
       "      <td>4.840000e+01</td>\n",
       "      <td>8.800000e+01</td>\n",
       "      <td>8.000000e+01</td>\n",
       "      <td>3.100000e+01</td>\n",
       "    </tr>\n",
       "  </tbody>\n",
       "</table>\n",
       "</div>"
      ],
      "text/plain": [
       "       Global_active_power  Global_reactive_power       Voltage  \\\n",
       "count         2.075259e+06           2.075259e+06  2.075259e+06   \n",
       "mean          1.091615e+00           1.237145e-01  2.408399e+02   \n",
       "std           1.050655e+00           1.120142e-01  3.219643e+00   \n",
       "min           7.600000e-02           0.000000e+00  2.232000e+02   \n",
       "25%           3.100000e-01           4.800000e-02  2.390200e+02   \n",
       "50%           6.300000e-01           1.020000e-01  2.409600e+02   \n",
       "75%           1.520000e+00           1.920000e-01  2.428600e+02   \n",
       "max           1.112200e+01           1.390000e+00  2.541500e+02   \n",
       "\n",
       "       Global_intensity  Sub_metering_1  Sub_metering_2  Sub_metering_3  \n",
       "count      2.075259e+06    2.075259e+06    2.075259e+06    2.075259e+06  \n",
       "mean       4.627759e+00    1.121923e+00    1.298520e+00    6.458447e+00  \n",
       "std        4.416490e+00    6.114397e+00    5.785470e+00    8.384178e+00  \n",
       "min        2.000000e-01    0.000000e+00    0.000000e+00    0.000000e+00  \n",
       "25%        1.400000e+00    0.000000e+00    0.000000e+00    0.000000e+00  \n",
       "50%        2.800000e+00    0.000000e+00    0.000000e+00    1.000000e+00  \n",
       "75%        6.400000e+00    0.000000e+00    1.000000e+00    1.700000e+01  \n",
       "max        4.840000e+01    8.800000e+01    8.000000e+01    3.100000e+01  "
      ]
     },
     "execution_count": 11,
     "metadata": {},
     "output_type": "execute_result"
    }
   ],
   "source": [
    "df.describe()"
   ]
  },
  {
   "cell_type": "code",
   "execution_count": 14,
   "metadata": {},
   "outputs": [
    {
     "data": {
      "image/png": "[encoded data removed]",
      "text/plain": [
       "<Figure size 432x288 with 1 Axes>"
      ]
     },
     "metadata": {
      "needs_background": "light"
     },
     "output_type": "display_data"
    },
    {
     "data": {
      "image/png": "[encoded data removed]",
      "text/plain": [
       "<Figure size 432x288 with 1 Axes>"
      ]
     },
     "metadata": {
      "needs_background": "light"
     },
     "output_type": "display_data"
    }
   ],
   "source": [
    "\n",
    "df.Global_active_power.resample('D').sum().plot(title='Potencia Global Activa, Suma por dìa', color ='yellow')  \n",
    "plt.tight_layout()\n",
    "plt.show()   \n",
    "\n",
    "df.Global_active_power.resample('D').mean().plot(title='Promedio potencia global activa por dìa', color='green') \n",
    "plt.tight_layout()\n",
    "plt.show()"
   ]
  },
  {
   "cell_type": "code",
   "execution_count": 15,
   "metadata": {},
   "outputs": [
    {
     "data": {
      "image/png": "[encoded data removed]",
      "text/plain": [
       "<Figure size 432x288 with 1 Axes>"
      ]
     },
     "metadata": {
      "needs_background": "light"
     },
     "output_type": "display_data"
    }
   ],
   "source": [
    "df['Global_active_power'].resample('Q').mean().plot(kind='bar')\n",
    "plt.xticks(rotation=60)\n",
    "plt.ylabel('Global_active_power')\n",
    "plt.title('PGA Promedio sobre el cuarto')\n",
    "plt.show()"
   ]
  },
  {
   "cell_type": "code",
   "execution_count": 18,
   "metadata": {},
   "outputs": [
    {
     "data": {
      "image/png": "[encoded data removed]",
      "text/plain": [
       "<Figure size 432x432 with 3 Axes>"
      ]
     },
     "metadata": {
      "needs_background": "light"
     },
     "output_type": "display_data"
    }
   ],
   "source": [
    "ret_data = df.pct_change()\n",
    "sns.jointplot(x='Global_intensity', y='Global_active_power', data=ret_data)  \n",
    "\n",
    "plt.show()"
   ]
  },
  {
   "cell_type": "code",
   "execution_count": 21,
   "metadata": {},
   "outputs": [
    {
     "data": {
      "image/png": "[encoded data removed]",
      "text/plain": [
       "<Figure size 432x432 with 3 Axes>"
      ]
     },
     "metadata": {
      "needs_background": "light"
     },
     "output_type": "display_data"
    }
   ],
   "source": [
    "sns.jointplot(x='Voltage', y='Global_active_power', data=ret_data)  \n",
    "plt.show()"
   ]
  },
  {
   "cell_type": "code",
   "execution_count": 22,
   "metadata": {},
   "outputs": [
    {
     "data": {
      "text/plain": [
       "<matplotlib.colorbar.Colorbar at 0x2bb070dd460>"
      ]
     },
     "execution_count": 22,
     "metadata": {},
     "output_type": "execute_result"
    },
    {
     "data": {
      "image/png": "[encoded data removed]",
      "text/plain": [
       "<Figure size 288x288 with 2 Axes>"
      ]
     },
     "metadata": {
      "needs_background": "light"
     },
     "output_type": "display_data"
    }
   ],
   "source": [
    "# Encontrando la correlación entre las diferentes columnas del dataset\n",
    "plt.matshow(df.corr(method='spearman'),vmax=1,vmin=-1,cmap='PRGn')\n",
    "plt.title('Remuestreo', size=15)\n",
    "plt.colorbar()"
   ]
  },
  {
   "cell_type": "code",
   "execution_count": 23,
   "metadata": {},
   "outputs": [],
   "source": [
    "def Supervision(data, n_in=1, n_out=1, dropnan=True):\n",
    "    n_vars = 1 if type(data) is list else data.shape[1]\n",
    "    dff = pd.DataFrame(data)\n",
    "    cols, names = list(), list()\n",
    "    for i in range(n_in, 0, -1):\n",
    "        cols.append(dff.shift(i))\n",
    "        names += [('var%d(t-%d)' % (j+1, i)) for j in range(n_vars)]\n",
    "    for i in range(0, n_out):\n",
    "        cols.append(dff.shift(-i))\n",
    "        if i == 0:\n",
    "            names += [('var%d(t)' % (j+1)) for j in range(n_vars)]\n",
    "        else:\n",
    "            names += [('var%d(t+%d)' % (j+1, i)) for j in range(n_vars)]\n",
    "\n",
    "    argumentos = pd.concat(cols, axis=1)\n",
    "    argumentos.columns = names\n",
    "    if dropnan:\n",
    "        argumentos.dropna(inplace=True)\n",
    "    return argumentos"
   ]
  },
  {
   "cell_type": "code",
   "execution_count": 24,
   "metadata": {},
   "outputs": [
    {
     "data": {
      "text/plain": [
       "(34589, 7)"
      ]
     },
     "execution_count": 24,
     "metadata": {},
     "output_type": "execute_result"
    }
   ],
   "source": [
    "res_df = df.resample('h').mean() \n",
    "res_df.shape"
   ]
  },
  {
   "cell_type": "code",
   "execution_count": 26,
   "metadata": {},
   "outputs": [
    {
     "name": "stdout",
     "output_type": "stream",
     "text": [
      "   var1(t-1)  var2(t-1)  var3(t-1)  var4(t-1)  var5(t-1)  var6(t-1)  \\\n",
      "1   0.636816   0.295738   0.337945   0.631157        0.0   0.011366   \n",
      "2   0.545045   0.103358   0.335501   0.541487        0.0   0.144652   \n",
      "3   0.509006   0.110073   0.283802   0.502152        0.0   0.030869   \n",
      "4   0.488550   0.096987   0.315987   0.481110        0.0   0.000000   \n",
      "5   0.455597   0.099010   0.434417   0.449904        0.0   0.008973   \n",
      "\n",
      "   var7(t-1)   var1(t)  \n",
      "1   0.782418  0.545045  \n",
      "2   0.782676  0.509006  \n",
      "3   0.774169  0.488550  \n",
      "4   0.778809  0.455597  \n",
      "5   0.798917  0.322555  \n"
     ]
    }
   ],
   "source": [
    "res_df = df.resample('h').mean() \n",
    "res_df.shape\n",
    "\n",
    "valores = res_df.values \n",
    "\n",
    "\n",
    "scaler = MinMaxScaler(feature_range=(0, 1))\n",
    "scaled = scaler.fit_transform(valores)\n",
    "\n",
    "reframed = Supervision(scaled, 1, 1)\n",
    "\n",
    "reframed.drop(reframed.columns[[8,9,10,11,12,13]], axis=1, inplace=True)\n",
    "print(reframed.head())"
   ]
  },
  {
   "cell_type": "code",
   "execution_count": 28,
   "metadata": {},
   "outputs": [
    {
     "data": {
      "text/plain": [
       "array([[0.63681623, 0.29573827, 0.33794529, ..., 0.01136636, 0.78241815,\n",
       "        0.54504495],\n",
       "       [0.54504495, 0.10335773, 0.33550078, ..., 0.14465183, 0.78267595,\n",
       "        0.50900588],\n",
       "       [0.50900588, 0.11007318, 0.28380167, ..., 0.03086863, 0.7741686 ,\n",
       "        0.48854974],\n",
       "       ...,\n",
       "       [0.22519369, 0.06934998, 0.44873246, ..., 0.        , 0.        ,\n",
       "        0.2385342 ],\n",
       "       [0.2385342 , 0.07752906, 0.41839455, ..., 0.00143575, 0.        ,\n",
       "        0.16153105],\n",
       "       [0.16153105, 0.07899268, 0.52024552, ..., 0.022972  , 0.        ,\n",
       "        0.12594772]])"
      ]
     },
     "execution_count": 28,
     "metadata": {},
     "output_type": "execute_result"
    }
   ],
   "source": [
    "valores = reframed.values\n",
    "valores"
   ]
  },
  {
   "cell_type": "code",
   "execution_count": 42,
   "metadata": {},
   "outputs": [
    {
     "name": "stdout",
     "output_type": "stream",
     "text": [
      "(8760, 1, 7) (8760,) (25828, 1, 7) (25828,)\n"
     ]
    }
   ],
   "source": [
    "tiempo = 365*24\n",
    "train = valores[:tiempo, :]\n",
    "test = valores[tiempo:, :]\n",
    "\n",
    "Tr_X, train_y = train[:, :-1], train[:, -1]\n",
    "TestF, PruebaF = test[:, :-1], test[:, -1]\n",
    "\n",
    "Tr_X = Tr_X.reshape((Tr_X.shape[0], 1, Tr_X.shape[1]))\n",
    "TestF = TestF.reshape((TestF.shape[0], 1, TestF.shape[1]))\n",
    "print(Tr_X.shape, train_y.shape, TestF.shape, PruebaF.shape) "
   ]
  },
  {
   "cell_type": "code",
   "execution_count": 43,
   "metadata": {
    "scrolled": true
   },
   "outputs": [
    {
     "name": "stdout",
     "output_type": "stream",
     "text": [
      "Epoch 1/20\n",
      "126/126 - 1s - loss: 0.0196 - val_loss: 0.0122\n",
      "Epoch 2/20\n",
      "126/126 - 0s - loss: 0.0127 - val_loss: 0.0107\n",
      "Epoch 3/20\n",
      "126/126 - 1s - loss: 0.0114 - val_loss: 0.0098\n",
      "Epoch 4/20\n",
      "126/126 - 0s - loss: 0.0109 - val_loss: 0.0094\n",
      "Epoch 5/20\n",
      "126/126 - 1s - loss: 0.0107 - val_loss: 0.0093\n",
      "Epoch 6/20\n",
      "126/126 - 0s - loss: 0.0106 - val_loss: 0.0093\n",
      "Epoch 7/20\n",
      "126/126 - 1s - loss: 0.0106 - val_loss: 0.0092\n",
      "Epoch 8/20\n",
      "126/126 - 0s - loss: 0.0105 - val_loss: 0.0092\n",
      "Epoch 9/20\n",
      "126/126 - 1s - loss: 0.0105 - val_loss: 0.0094\n",
      "Epoch 10/20\n",
      "126/126 - 0s - loss: 0.0104 - val_loss: 0.0093\n",
      "Epoch 11/20\n",
      "126/126 - 1s - loss: 0.0104 - val_loss: 0.0092\n",
      "Epoch 12/20\n",
      "126/126 - 0s - loss: 0.0104 - val_loss: 0.0095\n",
      "Epoch 13/20\n",
      "126/126 - 0s - loss: 0.0104 - val_loss: 0.0093\n",
      "Epoch 14/20\n",
      "126/126 - 1s - loss: 0.0104 - val_loss: 0.0093\n",
      "Epoch 15/20\n",
      "126/126 - 1s - loss: 0.0104 - val_loss: 0.0094\n",
      "Epoch 16/20\n",
      "126/126 - 1s - loss: 0.0104 - val_loss: 0.0092\n",
      "Epoch 17/20\n",
      "126/126 - 0s - loss: 0.0104 - val_loss: 0.0093\n",
      "Epoch 18/20\n",
      "126/126 - 1s - loss: 0.0104 - val_loss: 0.0092\n",
      "Epoch 19/20\n",
      "126/126 - 0s - loss: 0.0104 - val_loss: 0.0092\n",
      "Epoch 20/20\n",
      "126/126 - 1s - loss: 0.0104 - val_loss: 0.0091\n"
     ]
    },
    {
     "data": {
      "image/png": "[encoded data removed]",
      "text/plain": [
       "<Figure size 432x288 with 1 Axes>"
      ]
     },
     "metadata": {
      "needs_background": "light"
     },
     "output_type": "display_data"
    },
    {
     "name": "stdout",
     "output_type": "stream",
     "text": [
      "RMSE: 0.613\n"
     ]
    }
   ],
   "source": [
    "# Modelo CNN y una breve \n",
    "history = model.fit(Tr_X, train_y, epochs=20, batch_size=70, validation_data=(TestF, PruebaF), verbose=2, shuffle=False)\n",
    "model = Sequential()\n",
    "\n",
    "model.add(Conv2D(filters = 32, kernel_size = (5,5),padding = 'Same', activation ='relu', input_shape = (28,28,1)))\n",
    "model.add(Conv2D(filters = 32, kernel_size = (5,5),padding = 'Same', activation ='relu'))\n",
    "model.add(MaxPool2D(pool_size=(2,2)))\n",
    "model.add(Dropout(0.25))\n",
    "\n",
    "\n",
    "model.add(Conv2D(filters = 64, kernel_size = (3,3),padding = 'Same', \n",
    "                 activation ='relu'))\n",
    "model.add(Conv2D(filters = 64, kernel_size = (3,3),padding = 'Same', \n",
    "                 activation ='relu'))\n",
    "model.add(MaxPool2D(pool_size=(2,2), strides=(2,2)))\n",
    "model.add(Dropout(0.25))\n",
    "\n",
    "\n",
    "model.add(Flatten())\n",
    "model.add(Dense(256, activation = \"relu\"))\n",
    "model.add(Dropout(0.5))\n",
    "model.add(Dense(10, activation = \"softmax\"))\n",
    "\n",
    "\n",
    "\n",
    "plt.plot(history.history['loss'])\n",
    "plt.plot(history.history['val_loss'])\n",
    "plt.title('Perdida del modelo')\n",
    "plt.ylabel('Pérdida')\n",
    "plt.xlabel('Epoch')\n",
    "plt.legend(['Entrenamiento', 'Prueba'], loc='upper right')\n",
    "plt.show()\n",
    "\n",
    "yhat = model.predict(TestF)\n",
    "TestF = TestF.reshape((TestF.shape[0], 7))\n",
    "\n",
    "yhat_new = np.concatenate((yhat, TestF[:, -6:]), axis=1)\n",
    "yhat_new = scaler.inverse_transform(yhat_new)\n",
    "yhat_new = yhat_new[:,0]\n",
    "\n",
    "PruebaF = PruebaF.reshape((len(PruebaF), 1))\n",
    "Y_Final = np.concatenate((PruebaF, TestF[:, -6:]), axis=1)\n",
    "Y_Final = scaler.inverse_transform(Y_Final)\n",
    "Y_Final = Y_Final[:,0]\n",
    "\n",
    "RMSE = np.sqrt(mean_squared_error(Y_Final, yhat_new))\n",
    "print('RMSE: %.3f' % RMSE)\n",
    "\n"
   ]
  },
  {
   "cell_type": "markdown",
   "metadata": {},
   "source": [
    "# Conclusiones\n",
    "\n",
    "A pesar que la arquitectura tiene una buena forma para sondear datos, podemos observar que la RMSE no es tan adecuada como esperabamos para el set de datos de prueba. Podría haber hecho RMSProp con valores default para hacer un optimizador más eficiente. \n",
    "\n",
    "La otra forma hubiera sido utilizar un método de \"annealing\" para el learning rate. Tenìa un algoritmo con SGD, pero no es tan eficaz y baja bastante la RMSE total del modelo. \n",
    "\n"
   ]
  },
  {
   "cell_type": "code",
   "execution_count": null,
   "metadata": {},
   "outputs": [],
   "source": []
  }
 ],
 "metadata": {
  "kernelspec": {
   "display_name": "Python 3",
   "language": "python",
   "name": "python3"
  },
  "language_info": {
   "codemirror_mode": {
    "name": "ipython",
    "version": 3
   },
   "file_extension": ".py",
   "mimetype": "text/x-python",
   "name": "python",
   "nbconvert_exporter": "python",
   "pygments_lexer": "ipython3",
   "version": "3.8.3"
  }
 },
 "nbformat": 4,
 "nbformat_minor": 4
}
